{
  "nbformat": 4,
  "nbformat_minor": 0,
  "metadata": {
    "colab": {
      "provenance": [],
      "gpuType": "T4",
      "toc_visible": true,
      "include_colab_link": true
    },
    "kernelspec": {
      "name": "python3",
      "display_name": "Python 3"
    },
    "language_info": {
      "name": "python"
    },
    "accelerator": "GPU"
  },
  "cells": [
    {
      "cell_type": "markdown",
      "metadata": {
        "id": "view-in-github",
        "colab_type": "text"
      },
      "source": [
        "<a href=\"https://colab.research.google.com/github/a123r123p/Documents/blob/main/VAE.ipynb\" target=\"_parent\"><img src=\"https://colab.research.google.com/assets/colab-badge.svg\" alt=\"Open In Colab\"/></a>"
      ]
    },
    {
      "cell_type": "code",
      "execution_count": 1,
      "metadata": {
        "id": "vO8lF3Yy1t_m",
        "colab": {
          "base_uri": "https://localhost:8080/"
        },
        "outputId": "a4320adb-eb72-49ab-e6e5-33f7888bafb4"
      },
      "outputs": [
        {
          "output_type": "stream",
          "name": "stdout",
          "text": [
            "Requirement already satisfied: tensorflow in /usr/local/lib/python3.10/dist-packages (2.15.0)\n",
            "Requirement already satisfied: absl-py>=1.0.0 in /usr/local/lib/python3.10/dist-packages (from tensorflow) (1.4.0)\n",
            "Requirement already satisfied: astunparse>=1.6.0 in /usr/local/lib/python3.10/dist-packages (from tensorflow) (1.6.3)\n",
            "Requirement already satisfied: flatbuffers>=23.5.26 in /usr/local/lib/python3.10/dist-packages (from tensorflow) (24.3.25)\n",
            "Requirement already satisfied: gast!=0.5.0,!=0.5.1,!=0.5.2,>=0.2.1 in /usr/local/lib/python3.10/dist-packages (from tensorflow) (0.6.0)\n",
            "Requirement already satisfied: google-pasta>=0.1.1 in /usr/local/lib/python3.10/dist-packages (from tensorflow) (0.2.0)\n",
            "Requirement already satisfied: h5py>=2.9.0 in /usr/local/lib/python3.10/dist-packages (from tensorflow) (3.9.0)\n",
            "Requirement already satisfied: libclang>=13.0.0 in /usr/local/lib/python3.10/dist-packages (from tensorflow) (18.1.1)\n",
            "Requirement already satisfied: ml-dtypes~=0.2.0 in /usr/local/lib/python3.10/dist-packages (from tensorflow) (0.2.0)\n",
            "Requirement already satisfied: numpy<2.0.0,>=1.23.5 in /usr/local/lib/python3.10/dist-packages (from tensorflow) (1.25.2)\n",
            "Requirement already satisfied: opt-einsum>=2.3.2 in /usr/local/lib/python3.10/dist-packages (from tensorflow) (3.3.0)\n",
            "Requirement already satisfied: packaging in /usr/local/lib/python3.10/dist-packages (from tensorflow) (24.1)\n",
            "Requirement already satisfied: protobuf!=4.21.0,!=4.21.1,!=4.21.2,!=4.21.3,!=4.21.4,!=4.21.5,<5.0.0dev,>=3.20.3 in /usr/local/lib/python3.10/dist-packages (from tensorflow) (3.20.3)\n",
            "Requirement already satisfied: setuptools in /usr/local/lib/python3.10/dist-packages (from tensorflow) (67.7.2)\n",
            "Requirement already satisfied: six>=1.12.0 in /usr/local/lib/python3.10/dist-packages (from tensorflow) (1.16.0)\n",
            "Requirement already satisfied: termcolor>=1.1.0 in /usr/local/lib/python3.10/dist-packages (from tensorflow) (2.4.0)\n",
            "Requirement already satisfied: typing-extensions>=3.6.6 in /usr/local/lib/python3.10/dist-packages (from tensorflow) (4.12.2)\n",
            "Requirement already satisfied: wrapt<1.15,>=1.11.0 in /usr/local/lib/python3.10/dist-packages (from tensorflow) (1.14.1)\n",
            "Requirement already satisfied: tensorflow-io-gcs-filesystem>=0.23.1 in /usr/local/lib/python3.10/dist-packages (from tensorflow) (0.37.1)\n",
            "Requirement already satisfied: grpcio<2.0,>=1.24.3 in /usr/local/lib/python3.10/dist-packages (from tensorflow) (1.64.1)\n",
            "Requirement already satisfied: tensorboard<2.16,>=2.15 in /usr/local/lib/python3.10/dist-packages (from tensorflow) (2.15.2)\n",
            "Requirement already satisfied: tensorflow-estimator<2.16,>=2.15.0 in /usr/local/lib/python3.10/dist-packages (from tensorflow) (2.15.0)\n",
            "Requirement already satisfied: keras<2.16,>=2.15.0 in /usr/local/lib/python3.10/dist-packages (from tensorflow) (2.15.0)\n",
            "Requirement already satisfied: wheel<1.0,>=0.23.0 in /usr/local/lib/python3.10/dist-packages (from astunparse>=1.6.0->tensorflow) (0.43.0)\n",
            "Requirement already satisfied: google-auth<3,>=1.6.3 in /usr/local/lib/python3.10/dist-packages (from tensorboard<2.16,>=2.15->tensorflow) (2.27.0)\n",
            "Requirement already satisfied: google-auth-oauthlib<2,>=0.5 in /usr/local/lib/python3.10/dist-packages (from tensorboard<2.16,>=2.15->tensorflow) (1.2.1)\n",
            "Requirement already satisfied: markdown>=2.6.8 in /usr/local/lib/python3.10/dist-packages (from tensorboard<2.16,>=2.15->tensorflow) (3.6)\n",
            "Requirement already satisfied: requests<3,>=2.21.0 in /usr/local/lib/python3.10/dist-packages (from tensorboard<2.16,>=2.15->tensorflow) (2.31.0)\n",
            "Requirement already satisfied: tensorboard-data-server<0.8.0,>=0.7.0 in /usr/local/lib/python3.10/dist-packages (from tensorboard<2.16,>=2.15->tensorflow) (0.7.2)\n",
            "Requirement already satisfied: werkzeug>=1.0.1 in /usr/local/lib/python3.10/dist-packages (from tensorboard<2.16,>=2.15->tensorflow) (3.0.3)\n",
            "Requirement already satisfied: cachetools<6.0,>=2.0.0 in /usr/local/lib/python3.10/dist-packages (from google-auth<3,>=1.6.3->tensorboard<2.16,>=2.15->tensorflow) (5.3.3)\n",
            "Requirement already satisfied: pyasn1-modules>=0.2.1 in /usr/local/lib/python3.10/dist-packages (from google-auth<3,>=1.6.3->tensorboard<2.16,>=2.15->tensorflow) (0.4.0)\n",
            "Requirement already satisfied: rsa<5,>=3.1.4 in /usr/local/lib/python3.10/dist-packages (from google-auth<3,>=1.6.3->tensorboard<2.16,>=2.15->tensorflow) (4.9)\n",
            "Requirement already satisfied: requests-oauthlib>=0.7.0 in /usr/local/lib/python3.10/dist-packages (from google-auth-oauthlib<2,>=0.5->tensorboard<2.16,>=2.15->tensorflow) (1.3.1)\n",
            "Requirement already satisfied: charset-normalizer<4,>=2 in /usr/local/lib/python3.10/dist-packages (from requests<3,>=2.21.0->tensorboard<2.16,>=2.15->tensorflow) (3.3.2)\n",
            "Requirement already satisfied: idna<4,>=2.5 in /usr/local/lib/python3.10/dist-packages (from requests<3,>=2.21.0->tensorboard<2.16,>=2.15->tensorflow) (3.7)\n",
            "Requirement already satisfied: urllib3<3,>=1.21.1 in /usr/local/lib/python3.10/dist-packages (from requests<3,>=2.21.0->tensorboard<2.16,>=2.15->tensorflow) (2.0.7)\n",
            "Requirement already satisfied: certifi>=2017.4.17 in /usr/local/lib/python3.10/dist-packages (from requests<3,>=2.21.0->tensorboard<2.16,>=2.15->tensorflow) (2024.7.4)\n",
            "Requirement already satisfied: MarkupSafe>=2.1.1 in /usr/local/lib/python3.10/dist-packages (from werkzeug>=1.0.1->tensorboard<2.16,>=2.15->tensorflow) (2.1.5)\n",
            "Requirement already satisfied: pyasn1<0.7.0,>=0.4.6 in /usr/local/lib/python3.10/dist-packages (from pyasn1-modules>=0.2.1->google-auth<3,>=1.6.3->tensorboard<2.16,>=2.15->tensorflow) (0.6.0)\n",
            "Requirement already satisfied: oauthlib>=3.0.0 in /usr/local/lib/python3.10/dist-packages (from requests-oauthlib>=0.7.0->google-auth-oauthlib<2,>=0.5->tensorboard<2.16,>=2.15->tensorflow) (3.2.2)\n"
          ]
        }
      ],
      "source": [
        "!pip install tensorflow"
      ]
    },
    {
      "cell_type": "markdown",
      "source": [
        "Imports"
      ],
      "metadata": {
        "id": "GKdUTbze8wby"
      }
    },
    {
      "cell_type": "code",
      "source": [
        "import tensorflow as tf\n",
        "from tensorflow.keras import layers, models"
      ],
      "metadata": {
        "id": "7QE5zyUN8q7k"
      },
      "execution_count": 2,
      "outputs": []
    },
    {
      "cell_type": "markdown",
      "source": [
        "# Load the MNIST dataset"
      ],
      "metadata": {
        "id": "KHtM3mfs83Pb"
      }
    },
    {
      "cell_type": "code",
      "source": [
        "# Load the MNIST dataset\n",
        "mnist = tf.keras.datasets.mnist\n",
        "(x_train, y_train), (x_test, y_test) = mnist.load_data()\n",
        "\n",
        "# Normalize the images to the range [0, 1]\n",
        "x_train, x_test = x_train / 255.0, x_test / 255.0\n",
        "\n",
        "# Reshape the data to include the channel dimension\n",
        "x_train = x_train.reshape((-1, 28, 28, 1))\n",
        "x_test = x_test.reshape((-1, 28, 28, 1))\n",
        "\n",
        "# Print the shapes of the datasets\n",
        "print(\"Training data shape:\", x_train.shape)\n",
        "print(\"Training labels shape:\", y_train.shape)\n",
        "print(\"Testing data shape:\", x_test.shape)\n",
        "print(\"Testing labels shape:\", y_test.shape)\n"
      ],
      "metadata": {
        "colab": {
          "base_uri": "https://localhost:8080/"
        },
        "id": "svjggyZN855D",
        "outputId": "f7c9d796-79ca-47f6-f7e0-7e03897cd352"
      },
      "execution_count": 3,
      "outputs": [
        {
          "output_type": "stream",
          "name": "stdout",
          "text": [
            "Downloading data from https://storage.googleapis.com/tensorflow/tf-keras-datasets/mnist.npz\n",
            "11490434/11490434 [==============================] - 0s 0us/step\n",
            "Training data shape: (60000, 28, 28, 1)\n",
            "Training labels shape: (60000,)\n",
            "Testing data shape: (10000, 28, 28, 1)\n",
            "Testing labels shape: (10000,)\n"
          ]
        }
      ]
    },
    {
      "cell_type": "markdown",
      "source": [
        "# Define the encoder model"
      ],
      "metadata": {
        "id": "WIzQN0u19Bz7"
      }
    },
    {
      "cell_type": "code",
      "source": [
        "# Define the encoder model\n",
        "def build_encoder(input_shape):\n",
        "    encoder = models.Sequential()\n",
        "    encoder.add(layers.InputLayer(input_shape=input_shape))\n",
        "    encoder.add(layers.Conv2D(32, (3, 3), activation='relu', padding='same'))\n",
        "    encoder.add(layers.MaxPooling2D((2, 2), padding='same'))\n",
        "    encoder.add(layers.Conv2D(64, (3, 3), activation='relu', padding='same'))\n",
        "    encoder.add(layers.MaxPooling2D((2, 2), padding='same'))\n",
        "    encoder.add(layers.Conv2D(128, (3, 3), activation='relu', padding='same'))\n",
        "    encoder.add(layers.MaxPooling2D((2, 2), padding='same'))\n",
        "    encoder.add(layers.Conv2D(128, (3, 3), activation='relu', padding='same'))\n",
        "    encoder.add(layers.MaxPooling2D((2, 2), padding='same'))\n",
        "    encoder.add(layers.Flatten())\n",
        "    encoder.add(layers.Dense(256, activation='relu'))\n",
        "\n",
        "    return encoder\n",
        "\n",
        "# Input shape for the MNIST dataset (28x28 grayscale images)\n",
        "input_shape = (28, 28, 1)\n",
        "encoder = build_encoder(input_shape)\n",
        "\n",
        "# Print the encoder model summary\n",
        "# encoder.summary()"
      ],
      "metadata": {
        "id": "6wWTQ0Uq8PKC"
      },
      "execution_count": 4,
      "outputs": []
    },
    {
      "cell_type": "markdown",
      "source": [
        "# Define the decoder model"
      ],
      "metadata": {
        "id": "e_wdxFrG9RxO"
      }
    },
    {
      "cell_type": "code",
      "source": [
        "# # Define the decoder model\n",
        "# def build_decoder(encoded_shape):\n",
        "#     decoder = models.Sequential()\n",
        "#     decoder.add(layers.InputLayer(input_shape=encoded_shape))\n",
        "#     decoder.add(layers.Dense(4 * 4 * 128, activation='relu'))\n",
        "#     decoder.add(layers.Reshape((4, 4, 128)))\n",
        "#     decoder.add(layers.Conv2DTranspose(128, (3, 3), activation='relu', padding='same'))\n",
        "#     decoder.add(layers.UpSampling2D((2, 2)))\n",
        "#     decoder.add(layers.Conv2DTranspose(64, (3, 3), activation='relu', padding='same'))\n",
        "#     decoder.add(layers.UpSampling2D((2, 2)))\n",
        "#     decoder.add(layers.Conv2DTranspose(32, (3, 3), activation='relu', padding='same'))\n",
        "#     decoder.add(layers.UpSampling2D((2, 2)))\n",
        "#     decoder.add(layers.Conv2DTranspose(1, (3, 3), activation='sigmoid', padding='same'))\n",
        "\n",
        "#     return decoder\n",
        "\n",
        "# # Encoded shape from the encoder's output (assuming the final dense layer in the encoder has 256 units)\n",
        "# encoded_shape = (256,)\n",
        "# decoder = build_decoder(encoded_shape)\n",
        "\n",
        "# # Print the decoder model summary\n",
        "# decoder.summary()"
      ],
      "metadata": {
        "colab": {
          "base_uri": "https://localhost:8080/"
        },
        "id": "pPN0ZUzD9cum",
        "outputId": "bdf0bac9-0b8c-4cec-a587-024035614b76"
      },
      "execution_count": null,
      "outputs": [
        {
          "output_type": "stream",
          "name": "stdout",
          "text": [
            "Model: \"sequential_11\"\n",
            "_________________________________________________________________\n",
            " Layer (type)                Output Shape              Param #   \n",
            "=================================================================\n",
            " dense_11 (Dense)            (None, 6272)              1611904   \n",
            "                                                                 \n",
            " reshape_5 (Reshape)         (None, 7, 7, 128)         0         \n",
            "                                                                 \n",
            " conv2d_transpose_18 (Conv2  (None, 7, 7, 128)         147584    \n",
            " DTranspose)                                                     \n",
            "                                                                 \n",
            " up_sampling2d_13 (UpSampli  (None, 14, 14, 128)       0         \n",
            " ng2D)                                                           \n",
            "                                                                 \n",
            " conv2d_transpose_19 (Conv2  (None, 14, 14, 64)        73792     \n",
            " DTranspose)                                                     \n",
            "                                                                 \n",
            " up_sampling2d_14 (UpSampli  (None, 28, 28, 64)        0         \n",
            " ng2D)                                                           \n",
            "                                                                 \n",
            " conv2d_transpose_20 (Conv2  (None, 28, 28, 32)        18464     \n",
            " DTranspose)                                                     \n",
            "                                                                 \n",
            " up_sampling2d_15 (UpSampli  (None, 56, 56, 32)        0         \n",
            " ng2D)                                                           \n",
            "                                                                 \n",
            " conv2d_transpose_21 (Conv2  (None, 56, 56, 1)         289       \n",
            " DTranspose)                                                     \n",
            "                                                                 \n",
            "=================================================================\n",
            "Total params: 1852033 (7.06 MB)\n",
            "Trainable params: 1852033 (7.06 MB)\n",
            "Non-trainable params: 0 (0.00 Byte)\n",
            "_________________________________________________________________\n"
          ]
        }
      ]
    },
    {
      "cell_type": "code",
      "source": [
        "# Modify the decoder to output images of shape (28, 28, 1)\n",
        "def build_decoder(encoded_shape):\n",
        "    decoder = models.Sequential()\n",
        "    decoder.add(layers.InputLayer(input_shape=encoded_shape))\n",
        "    decoder.add(layers.Dense(7 * 7 * 128, activation='relu'))  # Adjusted to match the encoded output size after max pooling\n",
        "    decoder.add(layers.Reshape((7, 7, 128)))  # Reshape according to the last pooling output\n",
        "    decoder.add(layers.Conv2DTranspose(64, (3, 3), activation='relu', padding='same'))\n",
        "    decoder.add(layers.UpSampling2D((2, 2)))\n",
        "    decoder.add(layers.Conv2DTranspose(32, (3, 3), activation='relu', padding='same'))\n",
        "    decoder.add(layers.UpSampling2D((2, 2)))\n",
        "    decoder.add(layers.Conv2DTranspose(1, (3, 3), activation='sigmoid', padding='same'))\n",
        "\n",
        "    return decoder\n",
        "\n",
        "# Encoded shape from the encoder's output (assuming the final dense layer in the encoder has 256 units)\n",
        "encoded_shape = (256,)\n",
        "decoder = build_decoder(encoded_shape)\n",
        "\n",
        "# Print the decoder model summary\n",
        "decoder.summary()\n"
      ],
      "metadata": {
        "colab": {
          "base_uri": "https://localhost:8080/"
        },
        "id": "-bagqSPpWR2f",
        "outputId": "bd0a7d67-38c4-4b12-e998-af374e7ce955"
      },
      "execution_count": 5,
      "outputs": [
        {
          "output_type": "stream",
          "name": "stdout",
          "text": [
            "Model: \"sequential_1\"\n",
            "_________________________________________________________________\n",
            " Layer (type)                Output Shape              Param #   \n",
            "=================================================================\n",
            " dense_1 (Dense)             (None, 6272)              1611904   \n",
            "                                                                 \n",
            " reshape (Reshape)           (None, 7, 7, 128)         0         \n",
            "                                                                 \n",
            " conv2d_transpose (Conv2DTr  (None, 7, 7, 64)          73792     \n",
            " anspose)                                                        \n",
            "                                                                 \n",
            " up_sampling2d (UpSampling2  (None, 14, 14, 64)        0         \n",
            " D)                                                              \n",
            "                                                                 \n",
            " conv2d_transpose_1 (Conv2D  (None, 14, 14, 32)        18464     \n",
            " Transpose)                                                      \n",
            "                                                                 \n",
            " up_sampling2d_1 (UpSamplin  (None, 28, 28, 32)        0         \n",
            " g2D)                                                            \n",
            "                                                                 \n",
            " conv2d_transpose_2 (Conv2D  (None, 28, 28, 1)         289       \n",
            " Transpose)                                                      \n",
            "                                                                 \n",
            "=================================================================\n",
            "Total params: 1704449 (6.50 MB)\n",
            "Trainable params: 1704449 (6.50 MB)\n",
            "Non-trainable params: 0 (0.00 Byte)\n",
            "_________________________________________________________________\n"
          ]
        }
      ]
    },
    {
      "cell_type": "markdown",
      "source": [
        "# Full autoencoder model"
      ],
      "metadata": {
        "id": "m7CxMuFy9qJ6"
      }
    },
    {
      "cell_type": "code",
      "source": [
        "# Full autoencoder model\n",
        "autoencoder_input = layers.Input(shape=(28, 28, 1))\n",
        "encoded_output = encoder(autoencoder_input)\n",
        "decoded_output = decoder(encoded_output)\n",
        "\n",
        "print(\"Input shape:\", autoencoder_input.shape)\n",
        "print(\"Encoded shape:\", encoded_output.shape)\n",
        "print(\"Decoded shape:\", decoded_output.shape)\n",
        "\n",
        "print(\"Input :\", autoencoder_input)\n",
        "print(\"Encoded :\", encoded_output)\n",
        "print(\"Decoded :\", decoded_output)\n",
        "\n",
        "autoencoder = models.Model(autoencoder_input, decoded_output)\n",
        "\n",
        "# Print the full autoencoder model summary\n",
        "# autoencoder.summary()\n",
        "\n",
        "# Compile the autoencoder model\n",
        "autoencoder.compile(optimizer='adam', loss='binary_crossentropy')\n",
        "\n",
        "# Train the autoencoder model\n",
        "history = autoencoder.fit(x_train, x_train, epochs=10, batch_size=32, validation_split=0.2)\n",
        "\n",
        "# Evaluate the autoencoder on the test data\n",
        "test_loss = autoencoder.evaluate(x_test, x_test)\n",
        "print(f'Test loss: {test_loss}')"
      ],
      "metadata": {
        "colab": {
          "base_uri": "https://localhost:8080/"
        },
        "id": "sTdHFhRd9o4b",
        "outputId": "eca707e8-7856-41dd-de22-9fba4fe26f93"
      },
      "execution_count": 6,
      "outputs": [
        {
          "output_type": "stream",
          "name": "stdout",
          "text": [
            "Input shape: (None, 28, 28, 1)\n",
            "Encoded shape: (None, 256)\n",
            "Decoded shape: (None, 28, 28, 1)\n",
            "Input : KerasTensor(type_spec=TensorSpec(shape=(None, 28, 28, 1), dtype=tf.float32, name='input_3'), name='input_3', description=\"created by layer 'input_3'\")\n",
            "Encoded : KerasTensor(type_spec=TensorSpec(shape=(None, 256), dtype=tf.float32, name=None), name='sequential/dense/Relu:0', description=\"created by layer 'sequential'\")\n",
            "Decoded : KerasTensor(type_spec=TensorSpec(shape=(None, 28, 28, 1), dtype=tf.float32, name=None), name='sequential_1/conv2d_transpose_2/Sigmoid:0', description=\"created by layer 'sequential_1'\")\n",
            "Epoch 1/10\n",
            "1500/1500 [==============================] - 16s 6ms/step - loss: 0.1251 - val_loss: 0.0910\n",
            "Epoch 2/10\n",
            "1500/1500 [==============================] - 10s 7ms/step - loss: 0.0848 - val_loss: 0.0814\n",
            "Epoch 3/10\n",
            "1500/1500 [==============================] - 10s 6ms/step - loss: 0.0793 - val_loss: 0.0790\n",
            "Epoch 4/10\n",
            "1500/1500 [==============================] - 10s 7ms/step - loss: 0.0767 - val_loss: 0.0764\n",
            "Epoch 5/10\n",
            "1500/1500 [==============================] - 10s 7ms/step - loss: 0.0750 - val_loss: 0.0749\n",
            "Epoch 6/10\n",
            "1500/1500 [==============================] - 10s 7ms/step - loss: 0.0736 - val_loss: 0.0745\n",
            "Epoch 7/10\n",
            "1500/1500 [==============================] - 10s 7ms/step - loss: 0.0728 - val_loss: 0.0733\n",
            "Epoch 8/10\n",
            "1500/1500 [==============================] - 10s 7ms/step - loss: 0.0720 - val_loss: 0.0730\n",
            "Epoch 9/10\n",
            "1500/1500 [==============================] - 10s 7ms/step - loss: 0.0714 - val_loss: 0.0729\n",
            "Epoch 10/10\n",
            "1500/1500 [==============================] - 10s 7ms/step - loss: 0.0708 - val_loss: 0.0716\n",
            "313/313 [==============================] - 2s 4ms/step - loss: 0.0707\n",
            "Test loss: 0.07065874338150024\n"
          ]
        }
      ]
    },
    {
      "cell_type": "code",
      "source": [],
      "metadata": {
        "id": "ejGlrY12P7GT"
      },
      "execution_count": null,
      "outputs": []
    }
  ]
}